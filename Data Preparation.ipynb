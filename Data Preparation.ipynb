{
 "cells": [
  {
   "cell_type": "code",
   "execution_count": 3,
   "id": "4d3561a5",
   "metadata": {},
   "outputs": [],
   "source": [
    "import os\n",
    "import shutil\n",
    "import glob\n",
    "from tqdm import tqdm"
   ]
  },
  {
   "cell_type": "markdown",
   "id": "85a76025",
   "metadata": {},
   "source": [
    "#JUST FOR REFERENCE\n",
    "subject ID:\n",
    "xxx\n",
    "\n",
    "image number:\n",
    "xxx\n",
    "\n",
    "gender:\n",
    "0 - male\n",
    "1 - famale\n",
    "\n",
    "glasses:\n",
    "0 - no\n",
    "1 - yes\n",
    "\n",
    "eye state:\n",
    "0 - close\n",
    "1 - open\n",
    "\n",
    "reflections:\n",
    "0 - none\n",
    "1 - low\n",
    "2 - high\n",
    "\n",
    "lighting conditions/image quality:\n",
    "0 - bad\n",
    "1 - good\n",
    "\n",
    "sensor type:\n",
    "01 - RealSense SR300 640x480\n",
    "02 - IDS Imaging, 1280x1024\n",
    "03 - Aptina Imagin 752x480\n",
    "\n",
    "example:\n",
    "s001_00123_0_0_0_0_0_01.png"
   ]
  },
  {
   "cell_type": "code",
   "execution_count": 5,
   "id": "2976443f",
   "metadata": {},
   "outputs": [
    {
     "name": "stderr",
     "output_type": "stream",
     "text": [
      "0it [00:00, ?it/s]\n",
      "100%|██████████| 3242/3242 [00:30<00:00, 107.04it/s]\n",
      "100%|██████████| 1114/1114 [00:08<00:00, 133.23it/s]\n",
      "100%|██████████| 679/679 [00:05<00:00, 122.36it/s]\n",
      "100%|██████████| 1069/1069 [00:07<00:00, 141.48it/s]\n",
      "100%|██████████| 736/736 [00:05<00:00, 126.92it/s]\n",
      "100%|██████████| 1012/1012 [00:07<00:00, 130.77it/s]\n",
      "100%|██████████| 624/624 [00:04<00:00, 136.14it/s]\n",
      "100%|██████████| 832/832 [00:06<00:00, 138.14it/s]\n",
      "100%|██████████| 387/387 [00:02<00:00, 148.88it/s]\n",
      "100%|██████████| 399/399 [00:02<00:00, 143.09it/s]\n",
      "100%|██████████| 1648/1648 [00:11<00:00, 148.14it/s]\n",
      "100%|██████████| 8728/8728 [01:06<00:00, 130.73it/s]\n",
      "100%|██████████| 3605/3605 [00:25<00:00, 142.53it/s]\n",
      "100%|██████████| 8884/8884 [00:59<00:00, 148.65it/s]\n",
      "100%|██████████| 1132/1132 [00:07<00:00, 149.22it/s]\n",
      "100%|██████████| 1889/1889 [00:12<00:00, 150.30it/s]\n",
      "100%|██████████| 1648/1648 [00:10<00:00, 151.21it/s]\n",
      "100%|██████████| 4410/4410 [00:30<00:00, 146.35it/s]\n",
      "100%|██████████| 6175/6175 [00:40<00:00, 151.29it/s]\n",
      "100%|██████████| 704/704 [00:04<00:00, 153.33it/s]\n",
      "100%|██████████| 987/987 [00:06<00:00, 154.47it/s]\n",
      "100%|██████████| 382/382 [00:03<00:00, 115.57it/s]\n",
      "100%|██████████| 522/522 [00:03<00:00, 135.27it/s]\n",
      "100%|██████████| 752/752 [00:05<00:00, 146.06it/s]\n",
      "100%|██████████| 1502/1502 [00:09<00:00, 156.67it/s]\n",
      "100%|██████████| 1246/1246 [00:08<00:00, 151.32it/s]\n",
      "100%|██████████| 665/665 [00:04<00:00, 145.10it/s]\n",
      "100%|██████████| 736/736 [00:04<00:00, 148.37it/s]\n",
      "100%|██████████| 1393/1393 [00:08<00:00, 158.01it/s]\n",
      "100%|██████████| 1384/1384 [00:09<00:00, 144.58it/s]\n",
      "100%|██████████| 1738/1738 [00:12<00:00, 140.22it/s]\n",
      "100%|██████████| 6162/6162 [00:39<00:00, 155.92it/s]\n",
      "100%|██████████| 681/681 [00:04<00:00, 145.90it/s]\n",
      "100%|██████████| 739/739 [00:05<00:00, 131.46it/s]\n",
      "100%|██████████| 642/642 [00:03<00:00, 166.94it/s]\n",
      "100%|██████████| 6193/6193 [00:40<00:00, 153.30it/s]\n",
      "100%|██████████| 10257/10257 [01:05<00:00, 156.80it/s]\n"
     ]
    }
   ],
   "source": [
    "Raw_DIR=r'E:\\SurajPython\\eye\\mrlEyes_2018_01'\n",
    "for dirpath, dirname, filenames in os.walk(Raw_DIR):\n",
    "    for i in tqdm([f for f in filenames if f.endswith('.png')]):\n",
    "        if i.split('_')[4]=='0':\n",
    "            shutil.copy(src=dirpath+'/'+i,dst=r'E:\\SurajPython\\eye\\Prepared_Data\\Close Eyes')\n",
    "            \n",
    "        elif i.split('_')[4]=='1':\n",
    "            shutil.copy(src=dirpath+'/'+i,dst=r'E:\\SurajPython\\eye\\Prepared_Data\\Open Eyes')"
   ]
  },
  {
   "cell_type": "code",
   "execution_count": null,
   "id": "3ce2b0b2",
   "metadata": {},
   "outputs": [],
   "source": []
  }
 ],
 "metadata": {
  "kernelspec": {
   "display_name": "Python 3 (ipykernel)",
   "language": "python",
   "name": "python3"
  },
  "language_info": {
   "codemirror_mode": {
    "name": "ipython",
    "version": 3
   },
   "file_extension": ".py",
   "mimetype": "text/x-python",
   "name": "python",
   "nbconvert_exporter": "python",
   "pygments_lexer": "ipython3",
   "version": "3.10.4"
  }
 },
 "nbformat": 4,
 "nbformat_minor": 5
}
